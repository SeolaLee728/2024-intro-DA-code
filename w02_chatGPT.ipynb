{
  "nbformat": 4,
  "nbformat_minor": 0,
  "metadata": {
    "colab": {
      "provenance": [],
      "authorship_tag": "ABX9TyPdDW+J7GwkZiE8WEPLl7b+",
      "include_colab_link": true
    },
    "kernelspec": {
      "name": "python3",
      "display_name": "Python 3"
    },
    "language_info": {
      "name": "python"
    }
  },
  "cells": [
    {
      "cell_type": "markdown",
      "metadata": {
        "id": "view-in-github",
        "colab_type": "text"
      },
      "source": [
        "<a href=\"https://colab.research.google.com/github/SeolaLee728/2024-intro-DA-code/blob/main/chatGPT.ipynb\" target=\"_parent\"><img src=\"https://colab.research.google.com/assets/colab-badge.svg\" alt=\"Open In Colab\"/></a>"
      ]
    },
    {
      "cell_type": "code",
      "execution_count": 23,
      "metadata": {
        "colab": {
          "base_uri": "https://localhost:8080/"
        },
        "id": "S5ojMcoZpawZ",
        "outputId": "cb501a1b-cf44-43cf-c198-874549fdfe4c"
      },
      "outputs": [
        {
          "output_type": "stream",
          "name": "stdout",
          "text": [
            "서울의 최고 온도는 2018-08-01에 39.6도 입니다.\n"
          ]
        }
      ],
      "source": [
        "import csv\n",
        "\n",
        "# 파일 경로\n",
        "file_path = '/content/sample_data/ta_20240914005200.csv'  # 파일 경로를 실제 파일 위치로 변경\n",
        "\n",
        "# 최고 온도와 해당 날짜를 저장할 변수\n",
        "max_temp = -float('inf')\n",
        "max_temp_date = ''\n",
        "\n",
        "# CSV 파일 읽기\n",
        "with open(file_path, 'r', encoding='949') as file:\n",
        "    reader = csv.reader(file)\n",
        "    next(reader)  # 헤더 건너뛰기\n",
        "\n",
        "    for row in reader:\n",
        "        try:\n",
        "            date = row[0].strip()  # 첫 번째 열이 날짜라고 가정\n",
        "            temp = float(row[4].strip())  # 다섯 번째 열이 온도라고 가정\n",
        "\n",
        "            # 최고 온도를 갱신\n",
        "            if temp > max_temp:\n",
        "                max_temp = temp\n",
        "                max_temp_date = date\n",
        "\n",
        "        except ValueError:\n",
        "            # 온도 데이터가 숫자가 아닌 경우 무시\n",
        "            continue\n",
        "\n",
        "# 결과 출력\n",
        "print(f\"서울의 최고 온도는 {max_temp_date}에 {max_temp}도 입니다.\")"
      ]
    }
  ]
}
