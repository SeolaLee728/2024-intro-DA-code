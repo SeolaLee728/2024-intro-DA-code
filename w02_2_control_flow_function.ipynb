{
  "nbformat": 4,
  "nbformat_minor": 0,
  "metadata": {
    "colab": {
      "provenance": [],
      "authorship_tag": "ABX9TyPQacRchMLNtqUZs79lLm2n",
      "include_colab_link": true
    },
    "kernelspec": {
      "name": "python3",
      "display_name": "Python 3"
    },
    "language_info": {
      "name": "python"
    }
  },
  "cells": [
    {
      "cell_type": "markdown",
      "metadata": {
        "id": "view-in-github",
        "colab_type": "text"
      },
      "source": [
        "<a href=\"https://colab.research.google.com/github/SeolaLee728/2024-intro-DA-code/blob/main/w02_2_control_flow_function.ipynb\" target=\"_parent\"><img src=\"https://colab.research.google.com/assets/colab-badge.svg\" alt=\"Open In Colab\"/></a>"
      ]
    },
    {
      "cell_type": "markdown",
      "source": [
        "# 조건\n"
      ],
      "metadata": {
        "id": "qB5L8KVvkOKe"
      }
    },
    {
      "cell_type": "code",
      "execution_count": null,
      "metadata": {
        "colab": {
          "base_uri": "https://localhost:8080/"
        },
        "id": "q2LK1EAJkAeI",
        "outputId": "a4168c88-4fad-44b4-948f-e1b05eb97e87"
      },
      "outputs": [
        {
          "output_type": "stream",
          "name": "stdout",
          "text": [
            "짝수\n"
          ]
        }
      ],
      "source": [
        "n = 20\n",
        "if n %2 == 0:\n",
        "  print('짝수')"
      ]
    },
    {
      "cell_type": "code",
      "source": [
        "n = 21\n",
        "if n%2  == 0:\n",
        "  print('짝수')"
      ],
      "metadata": {
        "id": "tvBGwpJlkXYt"
      },
      "execution_count": null,
      "outputs": []
    },
    {
      "cell_type": "code",
      "source": [
        "age = 18\n",
        "if age >= 20:\n",
        "  print('성인')\n",
        "else:\n",
        "  print('미성년자')"
      ],
      "metadata": {
        "colab": {
          "base_uri": "https://localhost:8080/"
        },
        "id": "vwtx2KeFkibF",
        "outputId": "ae692b79-21ad-46b2-ba18-20714b8567fb"
      },
      "execution_count": null,
      "outputs": [
        {
          "output_type": "stream",
          "name": "stdout",
          "text": [
            "미성년자\n"
          ]
        }
      ]
    },
    {
      "cell_type": "code",
      "source": [
        "age = 21\n",
        "if age >= 20:\n",
        "  print('성인')\n",
        "else:\n",
        "  print('미성년자')"
      ],
      "metadata": {
        "colab": {
          "base_uri": "https://localhost:8080/"
        },
        "id": "N7-nSWkmkwIb",
        "outputId": "af835db3-57c8-4b3f-fd32-6f5572fb18b8"
      },
      "execution_count": null,
      "outputs": [
        {
          "output_type": "stream",
          "name": "stdout",
          "text": [
            "성인\n"
          ]
        }
      ]
    },
    {
      "cell_type": "code",
      "source": [
        "age = 18\n",
        "s = '성인' if age >= 20 else '미성년자'\n",
        "print(s)"
      ],
      "metadata": {
        "colab": {
          "base_uri": "https://localhost:8080/"
        },
        "id": "70eg4MTHk2qg",
        "outputId": "6c9635a2-30db-4a5f-bf0e-f65c06d0da77"
      },
      "execution_count": null,
      "outputs": [
        {
          "output_type": "stream",
          "name": "stdout",
          "text": [
            "미성년자\n"
          ]
        }
      ]
    },
    {
      "cell_type": "code",
      "source": [
        "age = 20\n",
        "s = '성인' if age >= 20 else '미성년자'\n",
        "print(s)"
      ],
      "metadata": {
        "colab": {
          "base_uri": "https://localhost:8080/"
        },
        "id": "_FkzGh0fk-iV",
        "outputId": "2e21f883-3b23-4244-f4f8-9734c1cde881"
      },
      "execution_count": null,
      "outputs": [
        {
          "output_type": "stream",
          "name": "stdout",
          "text": [
            "성인\n"
          ]
        }
      ]
    },
    {
      "cell_type": "code",
      "source": [
        "point = 92\n",
        "if (90 <= point):\n",
        "  print('A')\n",
        "elif (80 <= point):\n",
        "  print('B')\n",
        "elif (70 <= point):\n",
        "  print('C')\n",
        "elif (60 <= point):\n",
        "  print('D')\n",
        "else:\n",
        "  print('F')"
      ],
      "metadata": {
        "colab": {
          "base_uri": "https://localhost:8080/"
        },
        "id": "Cnl0uKJtlEWz",
        "outputId": "912ffd6b-bf08-476b-8c7e-52ace31a8131"
      },
      "execution_count": null,
      "outputs": [
        {
          "output_type": "stream",
          "name": "stdout",
          "text": [
            "A\n"
          ]
        }
      ]
    },
    {
      "cell_type": "code",
      "source": [
        "point = 62\n",
        "if 90 <= point:\n",
        "  print('A')\n",
        "elif 80 <= point:\n",
        "  print('B')\n",
        "elif 70 <= point:\n",
        "  print('C')\n",
        "elif 60 <= point:\n",
        "  print('D')\n",
        "else:\n",
        "  print('F')"
      ],
      "metadata": {
        "colab": {
          "base_uri": "https://localhost:8080/"
        },
        "id": "cswe8zSYle6G",
        "outputId": "d95e6229-783d-4c3b-8591-d9c04d92b2cc"
      },
      "execution_count": null,
      "outputs": [
        {
          "output_type": "stream",
          "name": "stdout",
          "text": [
            "D\n"
          ]
        }
      ]
    },
    {
      "cell_type": "code",
      "source": [
        "value = \"apple\"\n",
        "match value:\n",
        "  case 'apple':\n",
        "    result = \"사과\"\n",
        "  case 'banana':\n",
        "    result = \"바나나\"\n",
        "\n",
        "print(result)"
      ],
      "metadata": {
        "colab": {
          "base_uri": "https://localhost:8080/"
        },
        "id": "rFrgiQ94l8FF",
        "outputId": "ca441fa6-d0de-48eb-a0f8-8275530e4baf"
      },
      "execution_count": null,
      "outputs": [
        {
          "output_type": "stream",
          "name": "stdout",
          "text": [
            "사과\n"
          ]
        }
      ]
    },
    {
      "cell_type": "code",
      "source": [
        "value = \"banana\"\n",
        "match value:\n",
        "  case 'apple':\n",
        "    result = \"사과\"\n",
        "  case 'banana':\n",
        "    result = \"바나나\"\n",
        "\n",
        "print(result)"
      ],
      "metadata": {
        "colab": {
          "base_uri": "https://localhost:8080/"
        },
        "id": "7yKgZDuvmKqz",
        "outputId": "3fa12f58-a3e5-434b-886a-fb69e5650ae4"
      },
      "execution_count": null,
      "outputs": [
        {
          "output_type": "stream",
          "name": "stdout",
          "text": [
            "바나나\n"
          ]
        }
      ]
    },
    {
      "cell_type": "code",
      "source": [
        "value = \"mango\"\n",
        "match value:\n",
        "  case 'apple':\n",
        "    result = \"사과\"\n",
        "  case 'banana':\n",
        "    result = \"바나나\"\n",
        "  case _:\n",
        "    result = None\n",
        "\n",
        "print(result)"
      ],
      "metadata": {
        "colab": {
          "base_uri": "https://localhost:8080/"
        },
        "id": "iEnBzyjXmQ1O",
        "outputId": "63fa88b4-dcc9-4314-ae4d-0bbb1a8a70a9"
      },
      "execution_count": null,
      "outputs": [
        {
          "output_type": "stream",
          "name": "stdout",
          "text": [
            "None\n"
          ]
        }
      ]
    },
    {
      "cell_type": "code",
      "source": [
        "for x in range(1,6):\n",
        "  print(x)"
      ],
      "metadata": {
        "colab": {
          "base_uri": "https://localhost:8080/"
        },
        "id": "0VKR9Y7smXKZ",
        "outputId": "2e84bc1c-9398-4ae2-ac38-2d04564bd21d"
      },
      "execution_count": null,
      "outputs": [
        {
          "output_type": "stream",
          "name": "stdout",
          "text": [
            "1\n",
            "2\n",
            "3\n",
            "4\n",
            "5\n"
          ]
        }
      ]
    },
    {
      "cell_type": "code",
      "source": [
        "num = [10, 20, 30, 40]\n",
        "for i in num:\n",
        "  print(i)"
      ],
      "metadata": {
        "colab": {
          "base_uri": "https://localhost:8080/"
        },
        "id": "JA25XfaGmdv9",
        "outputId": "e0fd22b7-8b11-41ba-ce68-b030a21a3301"
      },
      "execution_count": null,
      "outputs": [
        {
          "output_type": "stream",
          "name": "stdout",
          "text": [
            "10\n",
            "20\n",
            "30\n",
            "40\n"
          ]
        }
      ]
    },
    {
      "cell_type": "code",
      "source": [
        "fruits = list([\"apple\", 2500, \"banana\", 500, \"mango\", 2000])\n",
        "for x in fruits:\n",
        "  print(x)"
      ],
      "metadata": {
        "colab": {
          "base_uri": "https://localhost:8080/"
        },
        "id": "kuz2kYtYmjfw",
        "outputId": "8af47c72-05a8-4815-f503-62f2e3b4c8d0"
      },
      "execution_count": null,
      "outputs": [
        {
          "output_type": "stream",
          "name": "stdout",
          "text": [
            "apple\n",
            "2500\n",
            "banana\n",
            "500\n",
            "mango\n",
            "2000\n"
          ]
        }
      ]
    },
    {
      "cell_type": "code",
      "source": [
        "i = 1\n",
        "sum = 0\n",
        "while i <= 10:\n",
        "  sum += i\n",
        "  i += 1\n",
        "\n",
        "print(sum)"
      ],
      "metadata": {
        "colab": {
          "base_uri": "https://localhost:8080/"
        },
        "id": "TgAdv1aknrKx",
        "outputId": "bfd93ddb-b5ea-4c35-c6a6-a65b918fbc0a"
      },
      "execution_count": null,
      "outputs": [
        {
          "output_type": "stream",
          "name": "stdout",
          "text": [
            "55\n"
          ]
        }
      ]
    },
    {
      "cell_type": "code",
      "source": [
        "def hello():\n",
        "  print('Hello, Python!')"
      ],
      "metadata": {
        "id": "HE-LPDs9n2S4"
      },
      "execution_count": 6,
      "outputs": []
    },
    {
      "cell_type": "code",
      "source": [
        "hello()"
      ],
      "metadata": {
        "colab": {
          "base_uri": "https://localhost:8080/"
        },
        "id": "viWD1Njun65l",
        "outputId": "9fbb8305-d2af-4b9b-f51e-7a52a6dda514"
      },
      "execution_count": 7,
      "outputs": [
        {
          "output_type": "stream",
          "name": "stdout",
          "text": [
            "Hello, Python!\n"
          ]
        }
      ]
    },
    {
      "cell_type": "code",
      "source": [
        "print(hello)"
      ],
      "metadata": {
        "colab": {
          "base_uri": "https://localhost:8080/"
        },
        "id": "XKAyjb11n99i",
        "outputId": "d4ebddf5-ae2a-4471-dadd-f0ed493daa6d"
      },
      "execution_count": 8,
      "outputs": [
        {
          "output_type": "stream",
          "name": "stdout",
          "text": [
            "<function hello at 0x7872bbdaf2e0>\n"
          ]
        }
      ]
    },
    {
      "cell_type": "code",
      "source": [
        "type(hello)"
      ],
      "metadata": {
        "colab": {
          "base_uri": "https://localhost:8080/"
        },
        "id": "c7HMmKLQonRp",
        "outputId": "1e25af9c-ae09-40fa-ec48-bbce8ae6343b"
      },
      "execution_count": null,
      "outputs": [
        {
          "output_type": "execute_result",
          "data": {
            "text/plain": [
              "function"
            ]
          },
          "metadata": {},
          "execution_count": 29
        }
      ]
    },
    {
      "cell_type": "code",
      "source": [
        "def hi(one):\n",
        "  print('안녕,', one)"
      ],
      "metadata": {
        "id": "dV-NtU37xzxv"
      },
      "execution_count": 3,
      "outputs": []
    },
    {
      "cell_type": "code",
      "source": [
        "hi('영희')"
      ],
      "metadata": {
        "colab": {
          "base_uri": "https://localhost:8080/"
        },
        "id": "kf02FOk9x47Q",
        "outputId": "334bb788-139c-49a1-ffbd-8435cd675cfc"
      },
      "execution_count": 4,
      "outputs": [
        {
          "output_type": "stream",
          "name": "stdout",
          "text": [
            "안녕, 영희\n"
          ]
        }
      ]
    },
    {
      "cell_type": "code",
      "source": [
        "print(hi)"
      ],
      "metadata": {
        "id": "YwcFAiZNx7Q4",
        "outputId": "1d688fee-79a4-4f24-f9bb-4878c2d85095",
        "colab": {
          "base_uri": "https://localhost:8080/"
        }
      },
      "execution_count": 5,
      "outputs": [
        {
          "output_type": "stream",
          "name": "stdout",
          "text": [
            "<function hi at 0x7872e81855a0>\n"
          ]
        }
      ]
    },
    {
      "cell_type": "code",
      "source": [
        "print(str(hi))"
      ],
      "metadata": {
        "id": "_J79BZELx8bO",
        "colab": {
          "base_uri": "https://localhost:8080/"
        },
        "outputId": "715363b5-d962-4fc6-a658-24af1179a59f"
      },
      "execution_count": 9,
      "outputs": [
        {
          "output_type": "stream",
          "name": "stdout",
          "text": [
            "<function hi at 0x7872e81855a0>\n"
          ]
        }
      ]
    },
    {
      "cell_type": "code",
      "source": [
        "def hi(one = '친구들'):\n",
        "    print('안녕,', one)"
      ],
      "metadata": {
        "id": "aGJMThtK7NEo"
      },
      "execution_count": 10,
      "outputs": []
    },
    {
      "cell_type": "code",
      "source": [
        "hi()"
      ],
      "metadata": {
        "colab": {
          "base_uri": "https://localhost:8080/"
        },
        "id": "o846FpaI7jnI",
        "outputId": "359f5fa9-890a-4778-ba36-9c0fa1bcea43"
      },
      "execution_count": 11,
      "outputs": [
        {
          "output_type": "stream",
          "name": "stdout",
          "text": [
            "안녕, 친구들\n"
          ]
        }
      ]
    },
    {
      "cell_type": "code",
      "source": [
        "hi('철수')"
      ],
      "metadata": {
        "colab": {
          "base_uri": "https://localhost:8080/"
        },
        "id": "62D745z27lGn",
        "outputId": "4d88c9fd-13e6-4d8a-d7b8-b979e87ae84e"
      },
      "execution_count": 12,
      "outputs": [
        {
          "output_type": "stream",
          "name": "stdout",
          "text": [
            "안녕, 철수\n"
          ]
        }
      ]
    },
    {
      "cell_type": "code",
      "source": [
        "import math as m\n",
        "def circle_area(r=1):\n",
        "    print(m.pi * r**2)"
      ],
      "metadata": {
        "id": "g6yr-zWf7nn5"
      },
      "execution_count": 13,
      "outputs": []
    },
    {
      "cell_type": "code",
      "source": [
        "circle_area()"
      ],
      "metadata": {
        "colab": {
          "base_uri": "https://localhost:8080/"
        },
        "id": "FDozi3J97ppV",
        "outputId": "cba59629-61e8-422f-822d-fc99148b25f6"
      },
      "execution_count": 14,
      "outputs": [
        {
          "output_type": "stream",
          "name": "stdout",
          "text": [
            "3.141592653589793\n"
          ]
        }
      ]
    },
    {
      "cell_type": "code",
      "source": [
        "circle_area(r =5.6)"
      ],
      "metadata": {
        "colab": {
          "base_uri": "https://localhost:8080/"
        },
        "id": "_s5hDTvD7rlR",
        "outputId": "7bb8130b-0342-47b4-b267-3145b5363073"
      },
      "execution_count": 15,
      "outputs": [
        {
          "output_type": "stream",
          "name": "stdout",
          "text": [
            "98.5203456165759\n"
          ]
        }
      ]
    },
    {
      "cell_type": "code",
      "source": [
        "print(circle_area(r = 7.2))"
      ],
      "metadata": {
        "colab": {
          "base_uri": "https://localhost:8080/"
        },
        "id": "DtWqWjGv7tPP",
        "outputId": "0fdb865c-e82a-47a3-94de-1bbddf561c7e"
      },
      "execution_count": 16,
      "outputs": [
        {
          "output_type": "stream",
          "name": "stdout",
          "text": [
            "162.8601631620949\n",
            "None\n"
          ]
        }
      ]
    },
    {
      "cell_type": "code",
      "source": [
        "import math as m\n",
        "def circle_area(r = 1):\n",
        "    return m.pi * r**2\n",
        "\n",
        "print(circle_area(r = 7.2))"
      ],
      "metadata": {
        "colab": {
          "base_uri": "https://localhost:8080/"
        },
        "id": "ku3OmZEG7vGX",
        "outputId": "5497843a-5af0-454a-87cb-bf9fd14b5b16"
      },
      "execution_count": 17,
      "outputs": [
        {
          "output_type": "stream",
          "name": "stdout",
          "text": [
            "162.8601631620949\n"
          ]
        }
      ]
    },
    {
      "cell_type": "code",
      "source": [
        "def sum_sub(x,y):\n",
        "    hap = x + y\n",
        "    cha = x - y\n",
        "    return hap, cha"
      ],
      "metadata": {
        "id": "Lk2SDmoa7y8j"
      },
      "execution_count": 19,
      "outputs": []
    },
    {
      "cell_type": "code",
      "source": [
        "sum_sub(10, 3)"
      ],
      "metadata": {
        "colab": {
          "base_uri": "https://localhost:8080/"
        },
        "id": "YTKxilSp715a",
        "outputId": "4d34268f-3153-4c6b-c5d4-bc98516c45c2"
      },
      "execution_count": 20,
      "outputs": [
        {
          "output_type": "execute_result",
          "data": {
            "text/plain": [
              "(13, 7)"
            ]
          },
          "metadata": {},
          "execution_count": 20
        }
      ]
    },
    {
      "cell_type": "code",
      "source": [
        "sum_sub(x = 10, y = 3)"
      ],
      "metadata": {
        "colab": {
          "base_uri": "https://localhost:8080/"
        },
        "id": "a6oyYU3O744z",
        "outputId": "5c3d8457-4da9-4782-cdbe-bbbdd2d4ac20"
      },
      "execution_count": 21,
      "outputs": [
        {
          "output_type": "execute_result",
          "data": {
            "text/plain": [
              "(13, 7)"
            ]
          },
          "metadata": {},
          "execution_count": 21
        }
      ]
    },
    {
      "cell_type": "code",
      "source": [
        "sum_sub(y = 3, x = 10)"
      ],
      "metadata": {
        "colab": {
          "base_uri": "https://localhost:8080/"
        },
        "id": "8Ji1ih4T76Vr",
        "outputId": "fafeb0a8-2044-4114-9e47-ead4e4d95c08"
      },
      "execution_count": 22,
      "outputs": [
        {
          "output_type": "execute_result",
          "data": {
            "text/plain": [
              "(13, 7)"
            ]
          },
          "metadata": {},
          "execution_count": 22
        }
      ]
    },
    {
      "cell_type": "code",
      "source": [
        "import math as m\n",
        "(lambda a, b: m.sqrt(a**2 + b**2))(3,4)"
      ],
      "metadata": {
        "colab": {
          "base_uri": "https://localhost:8080/"
        },
        "id": "o37Z8LIX78KN",
        "outputId": "d56e2f41-e861-4890-f541-34a4936ecddb"
      },
      "execution_count": 23,
      "outputs": [
        {
          "output_type": "execute_result",
          "data": {
            "text/plain": [
              "5.0"
            ]
          },
          "metadata": {},
          "execution_count": 23
        }
      ]
    }
  ]
}